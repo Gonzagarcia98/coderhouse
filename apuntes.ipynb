{
 "cells": [
  {
   "cell_type": "code",
   "execution_count": null,
   "metadata": {},
   "outputs": [],
   "source": [
    "# LISTAS = []\n",
    "\n",
    "# TUPLAS = () Inmutabilidad: Una vez definida, no se pueden cambiar los elementos de una tupla.\n",
    "\n",
    "#Definición: Se definen utilizando paréntesis () en lugar de corchetes [].\n",
    "\n",
    "#Acceso Rápido: Al ser inmutables, Python puede optimizar el acceso a sus elementos, lo que las hace ligeramente más rápidas que las listas para algunas operaciones.\n",
    "\n",
    "#Heterogeneidad: Al igual que las listas, las tuplas pueden contener elementos de diferentes tipos.\n",
    "\n",
    "# CONJUNTOS = [] \n",
    "\n",
    "# DICCIONARIOS = {}"
   ]
  }
 ],
 "metadata": {
  "language_info": {
   "name": "python"
  }
 },
 "nbformat": 4,
 "nbformat_minor": 2
}
