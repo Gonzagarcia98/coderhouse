{
 "cells": [
  {
   "cell_type": "markdown",
   "metadata": {},
   "source": [
    "Utilizando la función range() y la conversión a listas, genera las siguientes listas dinámicamente:\n",
    "Todos los números del 0 al 10 [0, 1, 2, ..., 10]\n",
    "\n",
    "Todos los números del -10 al 0 [-10, -9, -8, ..., 0]\n",
    "\n",
    "Todos los números pares del 0 al 20 [0, 2, 4, ..., 20]\n",
    "\n",
    "Todos los números impares entre -20 y 0 [-19, -17, -15, ..., -1]\n",
    "\n",
    "Todos los números múltiples de 5 del 0 al 50 [0, 5, 10, ..., 50]"
   ]
  },
  {
   "cell_type": "code",
   "execution_count": null,
   "metadata": {},
   "outputs": [],
   "source": [
    "# Todos los números del 0 al 10\n",
    "lista_0_10 = list(range(0, 11))\n",
    "print(\"0 al 10:\", lista_0_10)\n",
    "\n",
    "# Todos los números del -10 al 0\n",
    "lista_neg10_0 = list(range(-10, 1))\n",
    "print(\"-10 al 0:\", lista_neg10_0)\n",
    "\n",
    "# Todos los números pares del 0 al 20\n",
    "lista_pares_0_20 = list(range(0, 21, 2))\n",
    "print(\"Pares 0 al 20:\", lista_pares_0_20)\n",
    "\n",
    "# Todos los números impares entre -20 y 0\n",
    "lista_impares_neg20_0 = list(range(-19, 1, 2))\n",
    "print(\"Impares -20 al 0:\", lista_impares_neg20_0)\n",
    "\n",
    "# Todos los números múltiples de 5 del 0 al 50\n",
    "lista_multiplos_5 = list(range(0, 51, 5))\n",
    "print(\"Múltiplos de 5:\", lista_multiplos_5)"
   ]
  },
  {
   "cell_type": "markdown",
   "metadata": {},
   "source": [
    "Escribe un programa que lea dos números por teclado y permita elegir entre 4 opciones en un menú:\n",
    "\n",
    "Mostrar una suma de los dos números\n",
    "\n",
    "Mostrar una resta de los dos números (el primero menos el segundo)\n",
    "\n",
    "Mostrar una multiplicación de los dos números\n",
    "\n",
    "Si elige esta opción se interrumpirá la impresión del menú y el programa finalizará\n",
    "\n",
    "En caso de no introducir una opción válida, el programa informará de que no es correcta."
   ]
  },
  {
   "cell_type": "code",
   "execution_count": null,
   "metadata": {},
   "outputs": [],
   "source": [
    "#Menú\n",
    "numero1 = int(input(\"Ingrese el primer número: \"))\n",
    "numero2= int(input(\"Ingrese el segundo número: \"))\n",
    "\n",
    "while True:\n",
    "    # Mostrar el menú\n",
    "    print(\"\\n1. Suma \\n2. Resta \\n3. Multiplicación\")\n",
    "\n",
    "    # Elegir una opción del menú\n",
    "    opcion = int(input(\"Seleccione una opción (1/2/3): \"))\n",
    "\n",
    "    if opcion == 1:\n",
    "        suma = numero1 + numero2\n",
    "        print(f\"La suma de los números seleccionados es: {suma}\")\n",
    "    elif opcion == 2:\n",
    "        resta = numero1 - numero2\n",
    "        print(f\"La resta de los números seleccionados es: {resta}\")\n",
    "    elif opcion == 3:\n",
    "        print(\"Error: La opción de multiplicación no está disponible.\")\n",
    "        break  # Terminar el bucle después de mostrar el mensaje de error\n",
    "    else:\n",
    "        print(\"Opción no valida, ingrese uno de los números indicados en el menú\")\n",
    "    \n"
   ]
  },
  {
   "cell_type": "markdown",
   "metadata": {},
   "source": [
    "Escribe un programa que lea un número impar por teclado. Si el usuario no introduce un número impar, debe repetirse el proceso hasta que lo introduzca correctamente."
   ]
  },
  {
   "cell_type": "code",
   "execution_count": null,
   "metadata": {},
   "outputs": [],
   "source": [
    "\n",
    "while True:\n",
    "    try:\n",
    "        numeroimpar = int(input(\"Ingresá un número impar\"))\n",
    "\n",
    "        if numeroimpar %2 == 0:\n",
    "            print(\"El número ingresado es par, ingrese uno impar\")\n",
    "        else:\n",
    "            print(\"El número es impar, bien\")\n",
    "            break\n",
    "    except ValueError:\n",
    "        print(\"Ingresá un número valido\")"
   ]
  },
  {
   "cell_type": "markdown",
   "metadata": {},
   "source": [
    "Escribe un programa que sume todos los números enteros impares desde el 0 hasta el 100: 🖐 Ayuda: Puedes utilizar la funciones sum() y range() para hacerlo más fácil. El tercer parámetro en la función range(inicio, fin, salto) indica un salto de números."
   ]
  },
  {
   "cell_type": "code",
   "execution_count": null,
   "metadata": {},
   "outputs": [],
   "source": [
    "sumaimpares = sum(range(1,100,2))\n",
    "print(f\"La suma de números impares es: {sumaimpares}\")"
   ]
  },
  {
   "cell_type": "markdown",
   "metadata": {},
   "source": [
    "Escribe un programa que pida al usuario cuantos números quiere introducir. Luego lee todos los números y realiza una media aritmética."
   ]
  },
  {
   "cell_type": "code",
   "execution_count": null,
   "metadata": {},
   "outputs": [],
   "source": [
    "# Solicitar al usuario cuántos números quiere introducir\n",
    "cantidad = int(input(\"¿Cuántos números desea introducir? \"))\n",
    "\n",
    "# Inicializar la suma y la lista de números\n",
    "suma = 0\n",
    "numeros = []\n",
    "\n",
    "# Leer los números\n",
    "for i in range(cantidad):\n",
    "    numero = float(input(f\"Ingrese el número {i + 1}: \"))  # Solicitar cada número\n",
    "    numeros.append(numero)  # Agregar el número a la lista\n",
    "    suma += numero  # Sumar el número a la suma total\n",
    "\n",
    "# Calcular la media aritmética\n",
    "media = suma / cantidad if cantidad > 0 else 0  # Evitar división por cero\n",
    "\n",
    "# Mostrar el resultado\n",
    "print(f\"La media aritmética de los números introducidos es: {media}\")"
   ]
  },
  {
   "cell_type": "markdown",
   "metadata": {},
   "source": [
    "Escribe un programa que pida al usuario un número entero del 0 al 9, y que mientras el número no sea correcto se repita el proceso. Luego debe comprobar si el número se encuentra en la lista de números y notificarlo: 🖐 Ayuda: La sintaxis \"valor in lista\" permite comprobar fácilmente si un valor se encuentra en una lista (devuelve True o False)."
   ]
  },
  {
   "cell_type": "code",
   "execution_count": null,
   "metadata": {},
   "outputs": [],
   "source": [
    "# Lista de números del 0 al 9\n",
    "numeros = [0, 1, 2, 3, 4, 5, 6, 7, 8, 9]\n",
    "\n",
    "while True:\n",
    "    # Solicitar al usuario un número entero del 0 al 9\n",
    "    numero = int(input(\"Ingrese un número entero del 0 al 9: \"))\n",
    "    \n",
    "    # Comprobar si el número está en el rango válido\n",
    "    if 0 <= numero <= 9:\n",
    "        break  # Salir del bucle si el número es válido\n",
    "    else:\n",
    "        print(\"Error: El número debe estar entre 0 y 9. Intente nuevamente.\")\n",
    "\n",
    "# Comprobar si el número se encuentra en la lista\n",
    "if numero in numeros:\n",
    "    print(f\"El número {numero} se encuentra en la lista.\")\n",
    "else:\n",
    "    print(f\"El número {numero} no se encuentra en la lista.\")"
   ]
  },
  {
   "cell_type": "markdown",
   "metadata": {},
   "source": [
    "Utilizando la función range() y la conversión a listas, genera las siguientes listas dinámicamente:\n",
    "Todos los números del 0 al 10 [0, 1, 2, ..., 10]\n"
   ]
  },
  {
   "cell_type": "code",
   "execution_count": 25,
   "metadata": {},
   "outputs": [
    {
     "name": "stdout",
     "output_type": "stream",
     "text": [
      "Números del 0 al 10: [0, 1, 2, 3, 4, 5, 6, 7, 8, 9, 10]\n",
      "Números del -10 al 0: [-10, -9, -8, -7, -6, -5, -4, -3, -2, -1, 0]\n",
      "Números pares del 0 al 20: [0, 2, 4, 6, 8, 10, 12, 14, 16, 18, 20]\n",
      "Números impares entre -20 y 0: [-19, -17, -15, -13, -11, -9, -7, -5, -3, -1]\n",
      "Múltiplos de 5 del 0 al 50: [0, 5, 10, 15, 20, 25, 30, 35, 40, 45, 50]\n"
     ]
    }
   ],
   "source": [
    "# Todos los números del 0 al 10\n",
    "numeros_0_a_10 = list(range(0, 11))\n",
    "print(\"Números del 0 al 10:\", numeros_0_a_10)\n",
    "\n",
    "# Todos los números del -10 al 0\n",
    "numeros_negativos = list(range(-10, 1))\n",
    "print(\"Números del -10 al 0:\", numeros_negativos)\n",
    "\n",
    "# Todos los números pares del 0 al 20\n",
    "numeros_pares = list(range(0, 21, 2))\n",
    "print(\"Números pares del 0 al 20:\", numeros_pares)\n",
    "\n",
    "# Todos los números impares entre -20 y 0\n",
    "numeros_impares_negativos = list(range(-19, 0, 2))\n",
    "print(\"Números impares entre -20 y 0:\", numeros_impares_negativos)\n",
    "\n",
    "# Todos los números múltiplos de 5 del 0 al 50\n",
    "multiples_de_5 = list(range(0, 51, 5))\n",
    "print(\"Múltiplos de 5 del 0 al 50:\", multiples_de_5)"
   ]
  }
 ],
 "metadata": {
  "kernelspec": {
   "display_name": "Python 3",
   "language": "python",
   "name": "python3"
  },
  "language_info": {
   "codemirror_mode": {
    "name": "ipython",
    "version": 3
   },
   "file_extension": ".py",
   "mimetype": "text/x-python",
   "name": "python",
   "nbconvert_exporter": "python",
   "pygments_lexer": "ipython3",
   "version": "3.12.0"
  }
 },
 "nbformat": 4,
 "nbformat_minor": 2
}
