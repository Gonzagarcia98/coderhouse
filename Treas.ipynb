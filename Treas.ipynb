{
 "cells": [
  {
   "cell_type": "code",
   "execution_count": 12,
   "metadata": {},
   "outputs": [],
   "source": [
    "matriz = [\n",
    "\n",
    "[1, 5, 1],\n",
    "\n",
    "[2, 1, 2],\n",
    "\n",
    "[3, 0, 1],\n",
    "\n",
    "[1, 4, 4]\n",
    "\n",
    "]"
   ]
  },
  {
   "cell_type": "markdown",
   "metadata": {},
   "source": [
    "**Conjuntos**"
   ]
  },
  {
   "cell_type": "code",
   "execution_count": 21,
   "metadata": {},
   "outputs": [
    {
     "name": "stdout",
     "output_type": "stream",
     "text": [
      "{'USA', 'Argentina', 'Mexico', 'Portugal', 'Islandia', 'Inglaterra'}\n"
     ]
    }
   ],
   "source": [
    "paises = {\"Inglaterra\",\"USA\", \"Mexico\"}\n",
    "nuevos_paises = {\"Islandia\", \"Italia\", \"Argentina\", \"Portugal\", \"USA\"}\n",
    "union = paises | nuevos_paises\n",
    "union.discard(\"Chile\")\n",
    "union.discard(\"Italia\")\n",
    "print (union)"
   ]
  }
 ],
 "metadata": {
  "kernelspec": {
   "display_name": "Python 3",
   "language": "python",
   "name": "python3"
  },
  "language_info": {
   "codemirror_mode": {
    "name": "ipython",
    "version": 3
   },
   "file_extension": ".py",
   "mimetype": "text/x-python",
   "name": "python",
   "nbconvert_exporter": "python",
   "pygments_lexer": "ipython3",
   "version": "3.12.0"
  }
 },
 "nbformat": 4,
 "nbformat_minor": 2
}
